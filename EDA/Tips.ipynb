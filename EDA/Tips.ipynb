{
  "cells": [
    {
      "cell_type": "markdown",
      "id": "d20cff3b",
      "metadata": {},
      "source": [
        "# Exploratory Data Analysis on the `Tips` dataset\n",
        "\n",
        "Mattéo Menager - 20105354"
      ]
    },
    {
      "cell_type": "markdown",
      "id": "ff68647b",
      "metadata": {},
      "source": [
        "# Which datasets to consider?"
      ]
    },
    {
      "cell_type": "code",
      "execution_count": 1,
      "id": "bdb63f4a",
      "metadata": {},
      "outputs": [
        {
          "data": {
            "text/plain": [
              "'Titanic'"
            ]
          },
          "execution_count": 1,
          "metadata": {},
          "output_type": "execute_result"
        }
      ],
      "source": [
        "import random\n",
        "\n",
        "# Students should replace 12345678 with their student id (8-digit number, starting with 200)\n",
        "myStudentId = 20105354\n",
        "\n",
        "# Use myStudentId as the seed for the random number generator\n",
        "random.seed(myStudentId)\n",
        "\n",
        "dataSetToIgnore = random.choice(['Tips', 'Titanic', 'Algae'])\n",
        "dataSetToIgnore"
      ]
    },
    {
      "cell_type": "markdown",
      "id": "336f2271",
      "metadata": {},
      "source": [
        "Following the random dataset selection, I will work on the `Tips` and `Algae` datasets. In an effort to keep the notebook clean, I will only work on the `Tips` dataset in this notebook. The `Algae` dataset will be explored in a separate notebook."
      ]
    },
    {
      "cell_type": "markdown",
      "id": "50165fd8",
      "metadata": {},
      "source": [
        "# Notes on running this notebook. \n",
        "\n",
        "This notebook can be run using the `data-mining` anaconda environment created at the beginning of the semester. \n",
        "\n",
        "This environment is a regular anaconda environment with the following packages added: `dtale`, `voila`, `feature-tools`, `graphviz`, `pydot`, `ipywidgets`, `phik`, `pingouin`.\n",
        "\n",
        "The Python version of this environment is `3.11.5`."
      ]
    },
    {
      "cell_type": "markdown",
      "id": "44d33e02",
      "metadata": {},
      "source": [
        "# Task 1: First pass - load data set and initial clean"
      ]
    },
    {
      "cell_type": "markdown",
      "id": "b63091a1",
      "metadata": {},
      "source": [
        "## 1.1 Importing libraries\n",
        "\n",
        "Before anaything, we will import the libraries we will need for this notebook : some core data science modules, statistical modules and some visualisations modules. "
      ]
    },
    {
      "cell_type": "code",
      "execution_count": 2,
      "id": "cbb305ef",
      "metadata": {},
      "outputs": [
        {
          "name": "stderr",
          "output_type": "stream",
          "text": [
            "/var/folders/dt/58d383mx6m5glpsgpmmsbj_80000gn/T/ipykernel_54465/1283187840.py:16: MatplotlibDeprecationWarning: The seaborn styles shipped by Matplotlib are deprecated since 3.6, as they no longer correspond to the styles shipped by seaborn. However, they will remain available as 'seaborn-v0_8-<style>'. Alternatively, directly use the seaborn API instead.\n",
            "  plt.style.use(\"seaborn-darkgrid\")\n"
          ]
        }
      ],
      "source": [
        "# core data science libraries\n",
        "import numpy as np\n",
        "import pandas as pd\n",
        "\n",
        "# statistical modules\n",
        "import scipy.stats as stats \n",
        "import statsmodels.api as sm \n",
        "import pingouin as pg\n",
        "\n",
        "# visualisation\n",
        "import matplotlib.pyplot as plt\n",
        "import seaborn as sns\n",
        "import ipywidgets as widgets\n",
        "\n",
        "# set the default style for plots\n",
        "plt.style.use(\"seaborn-darkgrid\")\n",
        "\n",
        "# matplotlib magic to show plots inline\n",
        "%matplotlib inline"
      ]
    },
    {
      "cell_type": "markdown",
      "id": "4ca3795e",
      "metadata": {},
      "source": [
        "## 1.2 Importing the dataset and inspecting it\n",
        "\n",
        "Next, we need to import our dataset into a pandas dataframe."
      ]
    },
    {
      "cell_type": "code",
      "execution_count": 3,
      "id": "d3cae4fe",
      "metadata": {},
      "outputs": [
        {
          "data": {
            "text/html": [
              "<div>\n",
              "<style scoped>\n",
              "    .dataframe tbody tr th:only-of-type {\n",
              "        vertical-align: middle;\n",
              "    }\n",
              "\n",
              "    .dataframe tbody tr th {\n",
              "        vertical-align: top;\n",
              "    }\n",
              "\n",
              "    .dataframe thead th {\n",
              "        text-align: right;\n",
              "    }\n",
              "</style>\n",
              "<table border=\"1\" class=\"dataframe\">\n",
              "  <thead>\n",
              "    <tr style=\"text-align: right;\">\n",
              "      <th></th>\n",
              "      <th>total_bill</th>\n",
              "      <th>tip</th>\n",
              "      <th>sex</th>\n",
              "      <th>smoker</th>\n",
              "      <th>day</th>\n",
              "      <th>time</th>\n",
              "      <th>size</th>\n",
              "    </tr>\n",
              "  </thead>\n",
              "  <tbody>\n",
              "    <tr>\n",
              "      <th>0</th>\n",
              "      <td>16.99</td>\n",
              "      <td>1.01</td>\n",
              "      <td>Female</td>\n",
              "      <td>No</td>\n",
              "      <td>Sun</td>\n",
              "      <td>Dinner</td>\n",
              "      <td>2</td>\n",
              "    </tr>\n",
              "    <tr>\n",
              "      <th>1</th>\n",
              "      <td>10.34</td>\n",
              "      <td>1.66</td>\n",
              "      <td>Male</td>\n",
              "      <td>No</td>\n",
              "      <td>Sun</td>\n",
              "      <td>Dinner</td>\n",
              "      <td>3</td>\n",
              "    </tr>\n",
              "    <tr>\n",
              "      <th>2</th>\n",
              "      <td>21.01</td>\n",
              "      <td>3.50</td>\n",
              "      <td>Male</td>\n",
              "      <td>No</td>\n",
              "      <td>Sun</td>\n",
              "      <td>Dinner</td>\n",
              "      <td>3</td>\n",
              "    </tr>\n",
              "    <tr>\n",
              "      <th>3</th>\n",
              "      <td>23.68</td>\n",
              "      <td>3.31</td>\n",
              "      <td>Male</td>\n",
              "      <td>No</td>\n",
              "      <td>Sun</td>\n",
              "      <td>Dinner</td>\n",
              "      <td>2</td>\n",
              "    </tr>\n",
              "    <tr>\n",
              "      <th>4</th>\n",
              "      <td>24.59</td>\n",
              "      <td>3.61</td>\n",
              "      <td>Female</td>\n",
              "      <td>No</td>\n",
              "      <td>Sun</td>\n",
              "      <td>Dinner</td>\n",
              "      <td>4</td>\n",
              "    </tr>\n",
              "  </tbody>\n",
              "</table>\n",
              "</div>"
            ],
            "text/plain": [
              "   total_bill   tip     sex smoker  day    time  size\n",
              "0       16.99  1.01  Female     No  Sun  Dinner     2\n",
              "1       10.34  1.66    Male     No  Sun  Dinner     3\n",
              "2       21.01  3.50    Male     No  Sun  Dinner     3\n",
              "3       23.68  3.31    Male     No  Sun  Dinner     2\n",
              "4       24.59  3.61  Female     No  Sun  Dinner     4"
            ]
          },
          "execution_count": 3,
          "metadata": {},
          "output_type": "execute_result"
        }
      ],
      "source": [
        "df = pd.read_csv('data/01-Tips/tips.csv')\n",
        "df.head()"
      ]
    },
    {
      "cell_type": "markdown",
      "id": "f789e1f9",
      "metadata": {},
      "source": [
        "Perfect, we have our dataset loaded into a pandas dataframe. We can see abovce the first few rows, and the column names. Now we'll just look at some basic information about the dataset : size, column types as well as the last few rows."
      ]
    },
    {
      "cell_type": "code",
      "execution_count": 4,
      "id": "e661ade9",
      "metadata": {},
      "outputs": [
        {
          "name": "stdout",
          "output_type": "stream",
          "text": [
            "<class 'pandas.core.frame.DataFrame'>\n",
            "RangeIndex: 244 entries, 0 to 243\n",
            "Data columns (total 7 columns):\n",
            " #   Column      Non-Null Count  Dtype  \n",
            "---  ------      --------------  -----  \n",
            " 0   total_bill  244 non-null    float64\n",
            " 1   tip         244 non-null    float64\n",
            " 2   sex         244 non-null    object \n",
            " 3   smoker      244 non-null    object \n",
            " 4   day         244 non-null    object \n",
            " 5   time        244 non-null    object \n",
            " 6   size        244 non-null    int64  \n",
            "dtypes: float64(2), int64(1), object(4)\n",
            "memory usage: 13.5+ KB\n"
          ]
        }
      ],
      "source": [
        "df.info()"
      ]
    },
    {
      "cell_type": "markdown",
      "id": "faf725a8",
      "metadata": {},
      "source": [
        "We can see that the dataset has 244 rows and 7 columns. The columns are all of type `object` except for `total_bill` and `tip` which are of type `float64` and `size` which is of type `int64`.\n",
        "\n",
        "We can also see that the dataset has no missing values."
      ]
    },
    {
      "cell_type": "code",
      "execution_count": 5,
      "id": "9b649f0f",
      "metadata": {},
      "outputs": [
        {
          "data": {
            "text/html": [
              "<div>\n",
              "<style scoped>\n",
              "    .dataframe tbody tr th:only-of-type {\n",
              "        vertical-align: middle;\n",
              "    }\n",
              "\n",
              "    .dataframe tbody tr th {\n",
              "        vertical-align: top;\n",
              "    }\n",
              "\n",
              "    .dataframe thead th {\n",
              "        text-align: right;\n",
              "    }\n",
              "</style>\n",
              "<table border=\"1\" class=\"dataframe\">\n",
              "  <thead>\n",
              "    <tr style=\"text-align: right;\">\n",
              "      <th></th>\n",
              "      <th>total_bill</th>\n",
              "      <th>tip</th>\n",
              "      <th>sex</th>\n",
              "      <th>smoker</th>\n",
              "      <th>day</th>\n",
              "      <th>time</th>\n",
              "      <th>size</th>\n",
              "    </tr>\n",
              "  </thead>\n",
              "  <tbody>\n",
              "    <tr>\n",
              "      <th>239</th>\n",
              "      <td>29.03</td>\n",
              "      <td>5.92</td>\n",
              "      <td>Male</td>\n",
              "      <td>No</td>\n",
              "      <td>Sat</td>\n",
              "      <td>Dinner</td>\n",
              "      <td>3</td>\n",
              "    </tr>\n",
              "    <tr>\n",
              "      <th>240</th>\n",
              "      <td>27.18</td>\n",
              "      <td>2.00</td>\n",
              "      <td>Female</td>\n",
              "      <td>Yes</td>\n",
              "      <td>Sat</td>\n",
              "      <td>Dinner</td>\n",
              "      <td>2</td>\n",
              "    </tr>\n",
              "    <tr>\n",
              "      <th>241</th>\n",
              "      <td>22.67</td>\n",
              "      <td>2.00</td>\n",
              "      <td>Male</td>\n",
              "      <td>Yes</td>\n",
              "      <td>Sat</td>\n",
              "      <td>Dinner</td>\n",
              "      <td>2</td>\n",
              "    </tr>\n",
              "    <tr>\n",
              "      <th>242</th>\n",
              "      <td>17.82</td>\n",
              "      <td>1.75</td>\n",
              "      <td>Male</td>\n",
              "      <td>No</td>\n",
              "      <td>Sat</td>\n",
              "      <td>Dinner</td>\n",
              "      <td>2</td>\n",
              "    </tr>\n",
              "    <tr>\n",
              "      <th>243</th>\n",
              "      <td>18.78</td>\n",
              "      <td>3.00</td>\n",
              "      <td>Female</td>\n",
              "      <td>No</td>\n",
              "      <td>Thur</td>\n",
              "      <td>Dinner</td>\n",
              "      <td>2</td>\n",
              "    </tr>\n",
              "  </tbody>\n",
              "</table>\n",
              "</div>"
            ],
            "text/plain": [
              "     total_bill   tip     sex smoker   day    time  size\n",
              "239       29.03  5.92    Male     No   Sat  Dinner     3\n",
              "240       27.18  2.00  Female    Yes   Sat  Dinner     2\n",
              "241       22.67  2.00    Male    Yes   Sat  Dinner     2\n",
              "242       17.82  1.75    Male     No   Sat  Dinner     2\n",
              "243       18.78  3.00  Female     No  Thur  Dinner     2"
            ]
          },
          "execution_count": 5,
          "metadata": {},
          "output_type": "execute_result"
        }
      ],
      "source": [
        "df.tail()"
      ]
    },
    {
      "cell_type": "markdown",
      "id": "f9dd0a84",
      "metadata": {},
      "source": [
        "We can also confirm that there are no extraneous values at the end of the file."
      ]
    },
    {
      "cell_type": "code",
      "execution_count": 6,
      "id": "d992a10f",
      "metadata": {},
      "outputs": [
        {
          "data": {
            "text/plain": [
              "Index(['total_bill', 'tip', 'sex', 'smoker', 'day', 'time', 'size'], dtype='object')"
            ]
          },
          "execution_count": 6,
          "metadata": {},
          "output_type": "execute_result"
        }
      ],
      "source": [
        "df.columns"
      ]
    },
    {
      "cell_type": "markdown",
      "id": "eaf03e05",
      "metadata": {},
      "source": [
        "Finally, column names are short, descriptive and do not contain any spaces or special characters. This will make it easier to work with the dataset."
      ]
    },
    {
      "cell_type": "markdown",
      "id": "42646ca8",
      "metadata": {},
      "source": [
        "## 1.3 Converting categorical columns to `category` type\n",
        "\n",
        "The dataset is clean. The only thing we need to do is to convert the categorical columns to the `category` type."
      ]
    },
    {
      "cell_type": "code",
      "execution_count": 7,
      "id": "1664359b",
      "metadata": {},
      "outputs": [
        {
          "data": {
            "text/plain": [
              "array(['Female', 'Male'], dtype=object)"
            ]
          },
          "execution_count": 7,
          "metadata": {},
          "output_type": "execute_result"
        }
      ],
      "source": [
        "df.sex.unique()"
      ]
    },
    {
      "cell_type": "code",
      "execution_count": 8,
      "id": "128934cc",
      "metadata": {},
      "outputs": [
        {
          "data": {
            "text/plain": [
              "['Female', 'Male']\n",
              "Categories (2, object): ['Female', 'Male']"
            ]
          },
          "execution_count": 8,
          "metadata": {},
          "output_type": "execute_result"
        }
      ],
      "source": [
        "df.sex = pd.Categorical(df.sex)\n",
        "df.sex.unique()"
      ]
    },
    {
      "cell_type": "code",
      "execution_count": 9,
      "id": "c0247791",
      "metadata": {},
      "outputs": [
        {
          "data": {
            "text/plain": [
              "array(['No', 'Yes'], dtype=object)"
            ]
          },
          "execution_count": 9,
          "metadata": {},
          "output_type": "execute_result"
        }
      ],
      "source": [
        "df.smoker.unique()"
      ]
    },
    {
      "cell_type": "code",
      "execution_count": 10,
      "id": "64274b91",
      "metadata": {},
      "outputs": [
        {
          "data": {
            "text/plain": [
              "['No', 'Yes']\n",
              "Categories (2, object): ['No', 'Yes']"
            ]
          },
          "execution_count": 10,
          "metadata": {},
          "output_type": "execute_result"
        }
      ],
      "source": [
        "df.smoker = pd.Categorical(df.smoker)\n",
        "df.smoker.unique()"
      ]
    },
    {
      "cell_type": "code",
      "execution_count": 11,
      "id": "dfa5e4f7",
      "metadata": {},
      "outputs": [
        {
          "data": {
            "text/plain": [
              "array(['Sun', 'Sat', 'Thur', 'Fri'], dtype=object)"
            ]
          },
          "execution_count": 11,
          "metadata": {},
          "output_type": "execute_result"
        }
      ],
      "source": [
        "df.day.unique()"
      ]
    },
    {
      "cell_type": "code",
      "execution_count": 12,
      "id": "9405d752",
      "metadata": {},
      "outputs": [
        {
          "data": {
            "text/plain": [
              "['Sun', 'Sat', 'Thur', 'Fri']\n",
              "Categories (4, object): ['Thur' < 'Fri' < 'Sat' < 'Sun']"
            ]
          },
          "execution_count": 12,
          "metadata": {},
          "output_type": "execute_result"
        }
      ],
      "source": [
        "df.day = pd.Categorical(df.day, categories=['Thur', 'Fri','Sat', 'Sun'], ordered=True)\n",
        "df.day.unique()"
      ]
    },
    {
      "cell_type": "code",
      "execution_count": 13,
      "id": "efe89398",
      "metadata": {},
      "outputs": [
        {
          "data": {
            "text/plain": [
              "array(['Dinner', 'Lunch'], dtype=object)"
            ]
          },
          "execution_count": 13,
          "metadata": {},
          "output_type": "execute_result"
        }
      ],
      "source": [
        "df.time.unique()"
      ]
    },
    {
      "cell_type": "code",
      "execution_count": 14,
      "id": "ebb21e68",
      "metadata": {},
      "outputs": [
        {
          "data": {
            "text/plain": [
              "['Dinner', 'Lunch']\n",
              "Categories (2, object): ['Lunch' < 'Dinner']"
            ]
          },
          "execution_count": 14,
          "metadata": {},
          "output_type": "execute_result"
        }
      ],
      "source": [
        "df.time = pd.Categorical(df.time, categories=['Lunch', 'Dinner'], ordered=True)\n",
        "df.time.unique()"
      ]
    },
    {
      "cell_type": "code",
      "execution_count": 15,
      "id": "85208fb8",
      "metadata": {},
      "outputs": [
        {
          "name": "stdout",
          "output_type": "stream",
          "text": [
            "<class 'pandas.core.frame.DataFrame'>\n",
            "RangeIndex: 244 entries, 0 to 243\n",
            "Data columns (total 7 columns):\n",
            " #   Column      Non-Null Count  Dtype   \n",
            "---  ------      --------------  -----   \n",
            " 0   total_bill  244 non-null    float64 \n",
            " 1   tip         244 non-null    float64 \n",
            " 2   sex         244 non-null    category\n",
            " 3   smoker      244 non-null    category\n",
            " 4   day         244 non-null    category\n",
            " 5   time        244 non-null    category\n",
            " 6   size        244 non-null    int64   \n",
            "dtypes: category(4), float64(2), int64(1)\n",
            "memory usage: 7.4 KB\n"
          ]
        }
      ],
      "source": [
        "df.info()"
      ]
    },
    {
      "cell_type": "markdown",
      "id": "11f1f54b",
      "metadata": {},
      "source": [
        "Our data is clean, column names are short and descriptive, and the data types are correct. We can now move on to the second pass."
      ]
    },
    {
      "cell_type": "markdown",
      "id": "af66e5da",
      "metadata": {},
      "source": [
        "# Task 2: Second pass - individual features "
      ]
    },
    {
      "cell_type": "markdown",
      "id": "96071885",
      "metadata": {},
      "source": [
        "In this section, we will look at each feature individually. For this dataset, there is no target so we will not have to look at relationships to the target. "
      ]
    },
    {
      "cell_type": "markdown",
      "id": "7fe5069a",
      "metadata": {},
      "source": [
        "## 2.1 Numerical features\n",
        "\n",
        "Let's first look at the numerical features. We have 3 numerical features : `total_bill`, `tip` and `size`.\n",
        "\n",
        "We can start by computing some basic statistics on these features."
      ]
    },
    {
      "cell_type": "code",
      "execution_count": 16,
      "id": "5588717b",
      "metadata": {},
      "outputs": [
        {
          "data": {
            "text/html": [
              "<div>\n",
              "<style scoped>\n",
              "    .dataframe tbody tr th:only-of-type {\n",
              "        vertical-align: middle;\n",
              "    }\n",
              "\n",
              "    .dataframe tbody tr th {\n",
              "        vertical-align: top;\n",
              "    }\n",
              "\n",
              "    .dataframe thead th {\n",
              "        text-align: right;\n",
              "    }\n",
              "</style>\n",
              "<table border=\"1\" class=\"dataframe\">\n",
              "  <thead>\n",
              "    <tr style=\"text-align: right;\">\n",
              "      <th></th>\n",
              "      <th>total_bill</th>\n",
              "      <th>tip</th>\n",
              "      <th>size</th>\n",
              "    </tr>\n",
              "  </thead>\n",
              "  <tbody>\n",
              "    <tr>\n",
              "      <th>0</th>\n",
              "      <td>16.99</td>\n",
              "      <td>1.01</td>\n",
              "      <td>2</td>\n",
              "    </tr>\n",
              "    <tr>\n",
              "      <th>1</th>\n",
              "      <td>10.34</td>\n",
              "      <td>1.66</td>\n",
              "      <td>3</td>\n",
              "    </tr>\n",
              "    <tr>\n",
              "      <th>2</th>\n",
              "      <td>21.01</td>\n",
              "      <td>3.50</td>\n",
              "      <td>3</td>\n",
              "    </tr>\n",
              "    <tr>\n",
              "      <th>3</th>\n",
              "      <td>23.68</td>\n",
              "      <td>3.31</td>\n",
              "      <td>2</td>\n",
              "    </tr>\n",
              "    <tr>\n",
              "      <th>4</th>\n",
              "      <td>24.59</td>\n",
              "      <td>3.61</td>\n",
              "      <td>4</td>\n",
              "    </tr>\n",
              "  </tbody>\n",
              "</table>\n",
              "</div>"
            ],
            "text/plain": [
              "   total_bill   tip  size\n",
              "0       16.99  1.01     2\n",
              "1       10.34  1.66     3\n",
              "2       21.01  3.50     3\n",
              "3       23.68  3.31     2\n",
              "4       24.59  3.61     4"
            ]
          },
          "execution_count": 16,
          "metadata": {},
          "output_type": "execute_result"
        }
      ],
      "source": [
        "numericals = df.loc[:, ['total_bill', 'tip', 'size']]\n",
        "numericals.head()"
      ]
    },
    {
      "cell_type": "code",
      "execution_count": 17,
      "id": "cea2e3b8",
      "metadata": {},
      "outputs": [
        {
          "data": {
            "text/html": [
              "<div>\n",
              "<style scoped>\n",
              "    .dataframe tbody tr th:only-of-type {\n",
              "        vertical-align: middle;\n",
              "    }\n",
              "\n",
              "    .dataframe tbody tr th {\n",
              "        vertical-align: top;\n",
              "    }\n",
              "\n",
              "    .dataframe thead th {\n",
              "        text-align: right;\n",
              "    }\n",
              "</style>\n",
              "<table border=\"1\" class=\"dataframe\">\n",
              "  <thead>\n",
              "    <tr style=\"text-align: right;\">\n",
              "      <th></th>\n",
              "      <th>total_bill</th>\n",
              "      <th>tip</th>\n",
              "      <th>size</th>\n",
              "    </tr>\n",
              "  </thead>\n",
              "  <tbody>\n",
              "    <tr>\n",
              "      <th>count</th>\n",
              "      <td>244.000000</td>\n",
              "      <td>244.000000</td>\n",
              "      <td>244.000000</td>\n",
              "    </tr>\n",
              "    <tr>\n",
              "      <th>mean</th>\n",
              "      <td>19.785943</td>\n",
              "      <td>2.998279</td>\n",
              "      <td>2.569672</td>\n",
              "    </tr>\n",
              "    <tr>\n",
              "      <th>std</th>\n",
              "      <td>8.902412</td>\n",
              "      <td>1.383638</td>\n",
              "      <td>0.951100</td>\n",
              "    </tr>\n",
              "    <tr>\n",
              "      <th>min</th>\n",
              "      <td>3.070000</td>\n",
              "      <td>1.000000</td>\n",
              "      <td>1.000000</td>\n",
              "    </tr>\n",
              "    <tr>\n",
              "      <th>25%</th>\n",
              "      <td>13.347500</td>\n",
              "      <td>2.000000</td>\n",
              "      <td>2.000000</td>\n",
              "    </tr>\n",
              "    <tr>\n",
              "      <th>50%</th>\n",
              "      <td>17.795000</td>\n",
              "      <td>2.900000</td>\n",
              "      <td>2.000000</td>\n",
              "    </tr>\n",
              "    <tr>\n",
              "      <th>75%</th>\n",
              "      <td>24.127500</td>\n",
              "      <td>3.562500</td>\n",
              "      <td>3.000000</td>\n",
              "    </tr>\n",
              "    <tr>\n",
              "      <th>max</th>\n",
              "      <td>50.810000</td>\n",
              "      <td>10.000000</td>\n",
              "      <td>6.000000</td>\n",
              "    </tr>\n",
              "  </tbody>\n",
              "</table>\n",
              "</div>"
            ],
            "text/plain": [
              "       total_bill         tip        size\n",
              "count  244.000000  244.000000  244.000000\n",
              "mean    19.785943    2.998279    2.569672\n",
              "std      8.902412    1.383638    0.951100\n",
              "min      3.070000    1.000000    1.000000\n",
              "25%     13.347500    2.000000    2.000000\n",
              "50%     17.795000    2.900000    2.000000\n",
              "75%     24.127500    3.562500    3.000000\n",
              "max     50.810000   10.000000    6.000000"
            ]
          },
          "execution_count": 17,
          "metadata": {},
          "output_type": "execute_result"
        }
      ],
      "source": [
        "numericals.describe()"
      ]
    },
    {
      "cell_type": "markdown",
      "id": "172023b6",
      "metadata": {},
      "source": [
        "We will also look at the distribution of these features using a histogram and a boxplot."
      ]
    },
    {
      "cell_type": "code",
      "execution_count": 18,
      "id": "281cc311",
      "metadata": {},
      "outputs": [
        {
          "data": {
            "text/plain": [
              "total_bill       AxesSubplot(0.125,0.11;0.227941x0.77)\n",
              "tip           AxesSubplot(0.398529,0.11;0.227941x0.77)\n",
              "size          AxesSubplot(0.672059,0.11;0.227941x0.77)\n",
              "dtype: object"
            ]
          },
          "execution_count": 18,
          "metadata": {},
          "output_type": "execute_result"
        },
        {
          "data": {
            "image/png": "[encoded data removed]",
            "text/plain": [
              "<Figure size 1200x200 with 3 Axes>"
            ]
          },
          "metadata": {},
          "output_type": "display_data"
        }
      ],
      "source": [
        "numericals.plot(kind='box', figsize=(12,2), subplots=True, layout=(1,3), sharex=False, sharey=False, vert=False)"
      ]
    },
    {
      "cell_type": "code",
      "execution_count": 19,
      "metadata": {},
      "outputs": [
        {
          "data": {
            "image/png": "[encoded data removed]",
            "text/plain": [
              "<Figure size 1200x200 with 3 Axes>"
            ]
          },
          "metadata": {},
          "output_type": "display_data"
        }
      ],
      "source": [
        "fig, axes = plt.subplots(1, 3, sharex=False, sharey=False, figsize=(12, 2))\n",
        "for column, ax in zip(numericals.columns, axes):\n",
        "    sns.histplot(numericals[column], kde=True, ax=ax)\n",
        "    ax.set_title(column)"
      ]
    },
    {
      "cell_type": "markdown",
      "id": "d2183c41",
      "metadata": {},
      "source": [
        "Looking at the boxplots and histograms, we can see that the `total_bill` and `tip` features are skewed to the right. We can also see that they both have outliers on the right side. However these outliers look like valid data points and not errors.\n",
        "\n",
        "The `size` feature has only 6 possible values, and most of the values are 2. The 1, 5, and 6 tables are very rare.\n",
        "\n",
        "Based on the relationships we find between feqtures in pass 3, we may want to create/modify features to make the analysis simplier and clearer. \n",
        "\n",
        "For example we could :\n",
        "\n",
        "- Create a feature `tip_percentage` which would be the tip divided by the total bill.\n",
        "- Create a feature `bill_per_person` which would be the total bill divided by the number of people at the table.\n",
        "- Treat the `size` feature as a categorical feature : 1, 2, medium (3,4), large (5,6) OR 2, not-2\n",
        "\n",
        "Also, using `tip_percentage` and `bill_per_person` instead of `total_bill`, `tip`, and `size` could avoid multicollinearity issues in case we wanted to do regression for example because these variables are likeley to be intercorrelated.\n",
        "\n",
        "We will see in pass 3 if some of these ideas make sense."
      ]
    },
    {
      "cell_type": "markdown",
      "id": "87953672",
      "metadata": {},
      "source": [
        "## 2.2 Categorical features\n",
        "\n",
        "Let's now look at the categorical features. We have 4 categorical features : `sex`, `smoker`, `day` and `time`."
      ]
    },
    {
      "cell_type": "code",
      "execution_count": 20,
      "id": "3d4eb127",
      "metadata": {},
      "outputs": [],
      "source": [
        "categoricals = df.loc[:, ['sex', 'smoker', 'day', 'time']]"
      ]
    },
    {
      "cell_type": "markdown",
      "id": "5d3c7425",
      "metadata": {},
      "source": [
        "We can start by looking at how observations are distributed across the different categories."
      ]
    },
    {
      "cell_type": "code",
      "execution_count": 21,
      "id": "603efe59",
      "metadata": {},
      "outputs": [
        {
          "data": {
            "image/png": "[encoded data removed]",
            "text/plain": [
              "<Figure size 1200x200 with 4 Axes>"
            ]
          },
          "metadata": {},
          "output_type": "display_data"
        }
      ],
      "source": [
        "fig, axes = plt.subplots(1, 4, sharex=False, sharey=False, figsize=(12, 2))\n",
        "for column, ax in zip(categoricals.columns, axes):\n",
        "    sns.countplot(x=column, data=categoricals, ax=ax)\n",
        "    ax.set_title(column)\n"
      ]
    },
    {
      "cell_type": "markdown",
      "id": "b6b098a5",
      "metadata": {},
      "source": [
        "`sex` and `smoker` are not perfectly balanced, but they are not too far away either. `time` is less balanced, with a lot more observations for dinner than for lunch. `day` is well balanced except for Friday which has much less observations than the other days.\n",
        "\n",
        "As none of those features is a target, and they are not too unbalanced either, we will not need to do sampling for example. "
      ]
    },
    {
      "cell_type": "markdown",
      "id": "bb258e6f",
      "metadata": {},
      "source": [
        "# Task 3: Third pass - relationships between features"
      ]
    },
    {
      "cell_type": "markdown",
      "id": "522fd5d9",
      "metadata": {},
      "source": [
        "## 3.1 Numerical features\n",
        "\n",
        "To start we can look at correlations between our 3 numerical features and plot them."
      ]
    },
    {
      "cell_type": "code",
      "execution_count": 22,
      "id": "c0710c85",
      "metadata": {},
      "outputs": [
        {
          "data": {
            "text/html": [
              "<div>\n",
              "<style scoped>\n",
              "    .dataframe tbody tr th:only-of-type {\n",
              "        vertical-align: middle;\n",
              "    }\n",
              "\n",
              "    .dataframe tbody tr th {\n",
              "        vertical-align: top;\n",
              "    }\n",
              "\n",
              "    .dataframe thead th {\n",
              "        text-align: right;\n",
              "    }\n",
              "</style>\n",
              "<table border=\"1\" class=\"dataframe\">\n",
              "  <thead>\n",
              "    <tr style=\"text-align: right;\">\n",
              "      <th></th>\n",
              "      <th>total_bill</th>\n",
              "      <th>tip</th>\n",
              "      <th>size</th>\n",
              "    </tr>\n",
              "  </thead>\n",
              "  <tbody>\n",
              "    <tr>\n",
              "      <th>total_bill</th>\n",
              "      <td>1.000000</td>\n",
              "      <td>0.675734</td>\n",
              "      <td>0.598315</td>\n",
              "    </tr>\n",
              "    <tr>\n",
              "      <th>tip</th>\n",
              "      <td>0.675734</td>\n",
              "      <td>1.000000</td>\n",
              "      <td>0.489299</td>\n",
              "    </tr>\n",
              "    <tr>\n",
              "      <th>size</th>\n",
              "      <td>0.598315</td>\n",
              "      <td>0.489299</td>\n",
              "      <td>1.000000</td>\n",
              "    </tr>\n",
              "  </tbody>\n",
              "</table>\n",
              "</div>"
            ],
            "text/plain": [
              "            total_bill       tip      size\n",
              "total_bill    1.000000  0.675734  0.598315\n",
              "tip           0.675734  1.000000  0.489299\n",
              "size          0.598315  0.489299  1.000000"
            ]
          },
          "execution_count": 22,
          "metadata": {},
          "output_type": "execute_result"
        }
      ],
      "source": [
        "numericals.corr()"
      ]
    },
    {
      "cell_type": "code",
      "execution_count": 23,
      "id": "09e9ca7e",
      "metadata": {},
      "outputs": [
        {
          "data": {
            "text/plain": [
              "<seaborn.axisgrid.PairGrid at 0x1430e4210>"
            ]
          },
          "execution_count": 23,
          "metadata": {},
          "output_type": "execute_result"
        },
        {
          "data": {
            "image/png": "[encoded data removed]",
            "text/plain": [
              "<Figure size 750x750 with 12 Axes>"
            ]
          },
          "metadata": {},
          "output_type": "display_data"
        }
      ],
      "source": [
        "# plot each numerical variable against each other (scatter)\n",
        "sns.pairplot(numericals)"
      ]
    },
    {
      "cell_type": "markdown",
      "id": "d83f3c3e",
      "metadata": {},
      "source": [
        "We can see that there is definitly a linear relationship between `total_bill` and `tip`. This is expected as tips can be calculated automatically as a percentage when paying by card. But we can also see that tips have a propensity to remain lower than what a linear relationship would predict as the `total_bill` increases. This could be when people pay in cash (or by card and choose the option to put a custom tip amount) and thus do not calculate the tip as a percentage and leave an arbitrary tip amount. This could explain why the correlation coefficient is not very high.\n",
        "\n",
        "The relationship between `tip` and `size` and `total_bill` and `size` is less obvious but we can still observe a positive relationship in both cases, which makes sense as the more people there are at the table, the higher the bill and the tip are likely to be.\n",
        "\n",
        "However, it might be interesting to convert `size` to a categorical feature as compare the distributions of `tip` and `total_bill` for different table sizes."
      ]
    },
    {
      "cell_type": "code",
      "execution_count": 24,
      "id": "23303b34",
      "metadata": {},
      "outputs": [
        {
          "data": {
            "text/html": [
              "<div>\n",
              "<style scoped>\n",
              "    .dataframe tbody tr th:only-of-type {\n",
              "        vertical-align: middle;\n",
              "    }\n",
              "\n",
              "    .dataframe tbody tr th {\n",
              "        vertical-align: top;\n",
              "    }\n",
              "\n",
              "    .dataframe thead th {\n",
              "        text-align: right;\n",
              "    }\n",
              "</style>\n",
              "<table border=\"1\" class=\"dataframe\">\n",
              "  <thead>\n",
              "    <tr style=\"text-align: right;\">\n",
              "      <th></th>\n",
              "      <th>total_bill</th>\n",
              "      <th>tip</th>\n",
              "      <th>sex</th>\n",
              "      <th>smoker</th>\n",
              "      <th>day</th>\n",
              "      <th>time</th>\n",
              "      <th>size</th>\n",
              "      <th>group_size</th>\n",
              "    </tr>\n",
              "  </thead>\n",
              "  <tbody>\n",
              "    <tr>\n",
              "      <th>0</th>\n",
              "      <td>16.99</td>\n",
              "      <td>1.01</td>\n",
              "      <td>Female</td>\n",
              "      <td>No</td>\n",
              "      <td>Sun</td>\n",
              "      <td>Dinner</td>\n",
              "      <td>2</td>\n",
              "      <td>couple</td>\n",
              "    </tr>\n",
              "    <tr>\n",
              "      <th>1</th>\n",
              "      <td>10.34</td>\n",
              "      <td>1.66</td>\n",
              "      <td>Male</td>\n",
              "      <td>No</td>\n",
              "      <td>Sun</td>\n",
              "      <td>Dinner</td>\n",
              "      <td>3</td>\n",
              "      <td>group</td>\n",
              "    </tr>\n",
              "    <tr>\n",
              "      <th>2</th>\n",
              "      <td>21.01</td>\n",
              "      <td>3.50</td>\n",
              "      <td>Male</td>\n",
              "      <td>No</td>\n",
              "      <td>Sun</td>\n",
              "      <td>Dinner</td>\n",
              "      <td>3</td>\n",
              "      <td>group</td>\n",
              "    </tr>\n",
              "    <tr>\n",
              "      <th>3</th>\n",
              "      <td>23.68</td>\n",
              "      <td>3.31</td>\n",
              "      <td>Male</td>\n",
              "      <td>No</td>\n",
              "      <td>Sun</td>\n",
              "      <td>Dinner</td>\n",
              "      <td>2</td>\n",
              "      <td>couple</td>\n",
              "    </tr>\n",
              "    <tr>\n",
              "      <th>4</th>\n",
              "      <td>24.59</td>\n",
              "      <td>3.61</td>\n",
              "      <td>Female</td>\n",
              "      <td>No</td>\n",
              "      <td>Sun</td>\n",
              "      <td>Dinner</td>\n",
              "      <td>4</td>\n",
              "      <td>group</td>\n",
              "    </tr>\n",
              "  </tbody>\n",
              "</table>\n",
              "</div>"
            ],
            "text/plain": [
              "   total_bill   tip     sex smoker  day    time  size group_size\n",
              "0       16.99  1.01  Female     No  Sun  Dinner     2     couple\n",
              "1       10.34  1.66    Male     No  Sun  Dinner     3      group\n",
              "2       21.01  3.50    Male     No  Sun  Dinner     3      group\n",
              "3       23.68  3.31    Male     No  Sun  Dinner     2     couple\n",
              "4       24.59  3.61  Female     No  Sun  Dinner     4      group"
            ]
          },
          "execution_count": 24,
          "metadata": {},
          "output_type": "execute_result"
        }
      ],
      "source": [
        "# convert size to categorical (alone, couple, group)\n",
        "df['group_size'] = pd.cut(df['size'], bins=[0,1,2,6], labels=['alone', 'couple', 'group'])\n",
        "df.head()"
      ]
    },
    {
      "cell_type": "markdown",
      "id": "a83807da",
      "metadata": {},
      "source": [
        "As there is a notion of order, it would be strange to group 1 with larger groups. Also differentiating medium (3,4) and large (5,6) might not add clarity as we do not have a lot of observations for larger groups. So I decided to group into more natural groups : people eating alone, people eating 1 to 1, people eating in groups."
      ]
    },
    {
      "cell_type": "code",
      "execution_count": 25,
      "id": "784d474c",
      "metadata": {},
      "outputs": [
        {
          "data": {
            "text/plain": [
              "<AxesSubplot: xlabel='group_size', ylabel='count'>"
            ]
          },
          "execution_count": 25,
          "metadata": {},
          "output_type": "execute_result"
        },
        {
          "data": {
            "image/png": "[encoded data removed]",
            "text/plain": [
              "<Figure size 640x480 with 1 Axes>"
            ]
          },
          "metadata": {},
          "output_type": "display_data"
        }
      ],
      "source": [
        "sns.countplot(x='group_size', data=df)"
      ]
    },
    {
      "cell_type": "markdown",
      "id": "9e58e1c5",
      "metadata": {},
      "source": [
        "This gives us an unbalanced categorical feature, but it is not a problem as we are not using it as a target.\n",
        "\n",
        "We can now compare how tips and bills are distributed for different table sizes."
      ]
    },
    {
      "cell_type": "code",
      "execution_count": 26,
      "id": "4c778d3c",
      "metadata": {},
      "outputs": [
        {
          "data": {
            "text/plain": [
              "<seaborn.axisgrid.FacetGrid at 0x143740950>"
            ]
          },
          "execution_count": 26,
          "metadata": {},
          "output_type": "execute_result"
        },
        {
          "data": {
            "image/png": "[encoded data removed]",
            "text/plain": [
              "<Figure size 500x500 with 1 Axes>"
            ]
          },
          "metadata": {},
          "output_type": "display_data"
        }
      ],
      "source": [
        "sns.catplot(x='group_size', y='tip', data=df, kind='point')"
      ]
    },
    {
      "cell_type": "code",
      "execution_count": 27,
      "id": "d16292da",
      "metadata": {},
      "outputs": [
        {
          "data": {
            "text/plain": [
              "<seaborn.axisgrid.FacetGrid at 0x1437a7e10>"
            ]
          },
          "execution_count": 27,
          "metadata": {},
          "output_type": "execute_result"
        },
        {
          "data": {
            "image/png": "[encoded data removed]",
            "text/plain": [
              "<Figure size 500x500 with 1 Axes>"
            ]
          },
          "metadata": {},
          "output_type": "display_data"
        }
      ],
      "source": [
        "sns.catplot(x='group_size', y='total_bill', data=df, kind='point')"
      ]
    },
    {
      "cell_type": "markdown",
      "id": "2ea538cf",
      "metadata": {},
      "source": [
        "The expected relationship between `group_size` and `tip`or `total_bill` appears much clearly this way."
      ]
    },
    {
      "cell_type": "markdown",
      "id": "7076ce72",
      "metadata": {},
      "source": [
        "## 3.2 Categorical features\n",
        "\n",
        "We will now look at relationships between categorical variables. We will include our new categorical variable `group_size` in this analysis."
      ]
    },
    {
      "cell_type": "code",
      "execution_count": 28,
      "id": "4024370e",
      "metadata": {},
      "outputs": [
        {
          "data": {
            "text/html": [
              "<div>\n",
              "<style scoped>\n",
              "    .dataframe tbody tr th:only-of-type {\n",
              "        vertical-align: middle;\n",
              "    }\n",
              "\n",
              "    .dataframe tbody tr th {\n",
              "        vertical-align: top;\n",
              "    }\n",
              "\n",
              "    .dataframe thead th {\n",
              "        text-align: right;\n",
              "    }\n",
              "</style>\n",
              "<table border=\"1\" class=\"dataframe\">\n",
              "  <thead>\n",
              "    <tr style=\"text-align: right;\">\n",
              "      <th></th>\n",
              "      <th>sex</th>\n",
              "      <th>smoker</th>\n",
              "      <th>day</th>\n",
              "      <th>time</th>\n",
              "      <th>group_size</th>\n",
              "    </tr>\n",
              "  </thead>\n",
              "  <tbody>\n",
              "    <tr>\n",
              "      <th>0</th>\n",
              "      <td>Female</td>\n",
              "      <td>No</td>\n",
              "      <td>Sun</td>\n",
              "      <td>Dinner</td>\n",
              "      <td>couple</td>\n",
              "    </tr>\n",
              "    <tr>\n",
              "      <th>1</th>\n",
              "      <td>Male</td>\n",
              "      <td>No</td>\n",
              "      <td>Sun</td>\n",
              "      <td>Dinner</td>\n",
              "      <td>group</td>\n",
              "    </tr>\n",
              "    <tr>\n",
              "      <th>2</th>\n",
              "      <td>Male</td>\n",
              "      <td>No</td>\n",
              "      <td>Sun</td>\n",
              "      <td>Dinner</td>\n",
              "      <td>group</td>\n",
              "    </tr>\n",
              "    <tr>\n",
              "      <th>3</th>\n",
              "      <td>Male</td>\n",
              "      <td>No</td>\n",
              "      <td>Sun</td>\n",
              "      <td>Dinner</td>\n",
              "      <td>couple</td>\n",
              "    </tr>\n",
              "    <tr>\n",
              "      <th>4</th>\n",
              "      <td>Female</td>\n",
              "      <td>No</td>\n",
              "      <td>Sun</td>\n",
              "      <td>Dinner</td>\n",
              "      <td>group</td>\n",
              "    </tr>\n",
              "  </tbody>\n",
              "</table>\n",
              "</div>"
            ],
            "text/plain": [
              "      sex smoker  day    time group_size\n",
              "0  Female     No  Sun  Dinner     couple\n",
              "1    Male     No  Sun  Dinner      group\n",
              "2    Male     No  Sun  Dinner      group\n",
              "3    Male     No  Sun  Dinner     couple\n",
              "4  Female     No  Sun  Dinner      group"
            ]
          },
          "execution_count": 28,
          "metadata": {},
          "output_type": "execute_result"
        }
      ],
      "source": [
        "# include group size in the numericals\n",
        "categoricals = df[['sex', 'smoker', 'day', 'time', 'group_size']]\n",
        "categoricals.head()"
      ]
    },
    {
      "cell_type": "markdown",
      "id": "6d813600",
      "metadata": {},
      "source": [
        "We start by looking at the Phik correlation coefficient between our categorical variables."
      ]
    },
    {
      "cell_type": "code",
      "execution_count": 29,
      "id": "a80b06a3",
      "metadata": {},
      "outputs": [
        {
          "data": {
            "text/html": [
              "<div>\n",
              "<style scoped>\n",
              "    .dataframe tbody tr th:only-of-type {\n",
              "        vertical-align: middle;\n",
              "    }\n",
              "\n",
              "    .dataframe tbody tr th {\n",
              "        vertical-align: top;\n",
              "    }\n",
              "\n",
              "    .dataframe thead th {\n",
              "        text-align: right;\n",
              "    }\n",
              "</style>\n",
              "<table border=\"1\" class=\"dataframe\">\n",
              "  <thead>\n",
              "    <tr style=\"text-align: right;\">\n",
              "      <th></th>\n",
              "      <th>sex</th>\n",
              "      <th>smoker</th>\n",
              "      <th>day</th>\n",
              "      <th>time</th>\n",
              "      <th>group_size</th>\n",
              "    </tr>\n",
              "  </thead>\n",
              "  <tbody>\n",
              "    <tr>\n",
              "      <th>sex</th>\n",
              "      <td>1.000000</td>\n",
              "      <td>0.000000</td>\n",
              "      <td>0.309001</td>\n",
              "      <td>0.286979</td>\n",
              "      <td>0.050007</td>\n",
              "    </tr>\n",
              "    <tr>\n",
              "      <th>smoker</th>\n",
              "      <td>0.000000</td>\n",
              "      <td>1.000000</td>\n",
              "      <td>0.455862</td>\n",
              "      <td>0.000000</td>\n",
              "      <td>0.053214</td>\n",
              "    </tr>\n",
              "    <tr>\n",
              "      <th>day</th>\n",
              "      <td>0.309001</td>\n",
              "      <td>0.455862</td>\n",
              "      <td>1.000000</td>\n",
              "      <td>0.995930</td>\n",
              "      <td>0.173619</td>\n",
              "    </tr>\n",
              "    <tr>\n",
              "      <th>time</th>\n",
              "      <td>0.286979</td>\n",
              "      <td>0.000000</td>\n",
              "      <td>0.995930</td>\n",
              "      <td>1.000000</td>\n",
              "      <td>0.099242</td>\n",
              "    </tr>\n",
              "    <tr>\n",
              "      <th>group_size</th>\n",
              "      <td>0.050007</td>\n",
              "      <td>0.053214</td>\n",
              "      <td>0.173619</td>\n",
              "      <td>0.099242</td>\n",
              "      <td>1.000000</td>\n",
              "    </tr>\n",
              "  </tbody>\n",
              "</table>\n",
              "</div>"
            ],
            "text/plain": [
              "                 sex    smoker       day      time  group_size\n",
              "sex         1.000000  0.000000  0.309001  0.286979    0.050007\n",
              "smoker      0.000000  1.000000  0.455862  0.000000    0.053214\n",
              "day         0.309001  0.455862  1.000000  0.995930    0.173619\n",
              "time        0.286979  0.000000  0.995930  1.000000    0.099242\n",
              "group_size  0.050007  0.053214  0.173619  0.099242    1.000000"
            ]
          },
          "execution_count": 29,
          "metadata": {},
          "output_type": "execute_result"
        }
      ],
      "source": [
        "import phik \n",
        "\n",
        "corr = categoricals.phik_matrix()\n",
        "corr"
      ]
    },
    {
      "cell_type": "code",
      "execution_count": 30,
      "id": "38236a14",
      "metadata": {},
      "outputs": [
        {
          "data": {
            "text/plain": [
              "<AxesSubplot: >"
            ]
          },
          "execution_count": 30,
          "metadata": {},
          "output_type": "execute_result"
        },
        {
          "data": {
            "image/png": "[encoded data removed]",
            "text/plain": [
              "<Figure size 640x480 with 2 Axes>"
            ]
          },
          "metadata": {},
          "output_type": "display_data"
        }
      ],
      "source": [
        "cmap = sns.diverging_palette(230, 20, as_cmap=True)\n",
        "sns.heatmap(corr, cmap=cmap, square=True, vmin=-1, vmax=1)"
      ]
    },
    {
      "cell_type": "markdown",
      "id": "89856cbf",
      "metadata": {},
      "source": [
        "Apparently, day and time are almost perfectly correlated. \n",
        "\n",
        "Then we have a small correlation between day and smoker. \n",
        "\n",
        "We also have smaller correlations between day and sex, and between time and sex. It makes sense to have both as day and time are almost perfectly correlated.\n",
        "\n",
        "Other correlations are too small to be be considered, especially on such a small dataset with unbalanced categories (very few observations for some of them).\n",
        "\n",
        "We can also note that `smoker` is completely uncorrelated with all the variables (except for day). `group_size` is uncorrelated with all the categorical features (small correlations that can be ignored)."
      ]
    },
    {
      "cell_type": "code",
      "execution_count": 31,
      "id": "e95a8673",
      "metadata": {},
      "outputs": [
        {
          "data": {
            "application/vnd.jupyter.widget-view+json": {
              "model_id": "3b1ee312155c439a8e15616797d048b8",
              "version_major": 2,
              "version_minor": 0
            },
            "text/plain": [
              "HBox(children=(Dropdown(description='Column', options=('sex', 'smoker', 'day', 'time', 'group_size'), value='s…"
            ]
          },
          "metadata": {},
          "output_type": "display_data"
        },
        {
          "data": {
            "application/vnd.jupyter.widget-view+json": {
              "model_id": "235c959acb94487a8aad1aab96028626",
              "version_major": 2,
              "version_minor": 0
            },
            "text/plain": [
              "Output()"
            ]
          },
          "metadata": {},
          "output_type": "display_data"
        }
      ],
      "source": [
        "ddCol = widgets.Dropdown(options=categoricals.columns, value=categoricals.columns[0], description=\"Column\")\n",
        "ddHue = widgets.Dropdown(options=categoricals.columns, value=categoricals.columns[0], description=\"Hue\")\n",
        "\n",
        "uiControls = widgets.HBox([ddCol, ddHue])\n",
        "\n",
        "def doCountplot(column, hue):\n",
        "    p=sns.countplot(data=df, x=column, hue=hue)\n",
        "    \n",
        "out = widgets.interactive_output(doCountplot, {\"column\":ddCol, \"hue\":ddHue})\n",
        "display(uiControls, out)"
      ]
    },
    {
      "cell_type": "markdown",
      "id": "94494ea5",
      "metadata": {},
      "source": [
        "Using the interactive chart above, we can confirm the almost perfect correlation between time and day. In fact, almost all observations on Thursday are lunch (which makes sense as it is a weekday) and all observations on Saturday and Sunday are dinner (which also makes sense as it is the weekend).\n",
        "\n",
        "However, these observations seem extreme and might tell us more about where the data comes from (e.g. a restaurant closed for lunch on weekends) than about the actual relationship between the features in a more general context.\n",
        "\n",
        "All other correlations mentionned do not make much sense from a logical point of view. This is probably due to the small size of the dataset and the unbalanced categories. In addition, the coefficients were not very big."
      ]
    },
    {
      "cell_type": "markdown",
      "id": "05b3a943",
      "metadata": {},
      "source": [
        "## 3.3 Categorical features x numerical features\n",
        "\n",
        "As we've seen earlier, treating `size` as a categorical variable makes out analysis easier and clearer. For this reason we will treat `size` as a categorical variable in this section.\n",
        "\n",
        "Also we will create two new features : `tip_percentage` and `bill_per_person`. and see if it helps."
      ]
    },
    {
      "cell_type": "code",
      "execution_count": 32,
      "id": "07de44d4",
      "metadata": {},
      "outputs": [
        {
          "data": {
            "text/html": [
              "<div>\n",
              "<style scoped>\n",
              "    .dataframe tbody tr th:only-of-type {\n",
              "        vertical-align: middle;\n",
              "    }\n",
              "\n",
              "    .dataframe tbody tr th {\n",
              "        vertical-align: top;\n",
              "    }\n",
              "\n",
              "    .dataframe thead th {\n",
              "        text-align: right;\n",
              "    }\n",
              "</style>\n",
              "<table border=\"1\" class=\"dataframe\">\n",
              "  <thead>\n",
              "    <tr style=\"text-align: right;\">\n",
              "      <th></th>\n",
              "      <th>total_bill</th>\n",
              "      <th>tip</th>\n",
              "      <th>sex</th>\n",
              "      <th>smoker</th>\n",
              "      <th>day</th>\n",
              "      <th>time</th>\n",
              "      <th>size</th>\n",
              "      <th>group_size</th>\n",
              "      <th>tip_percentage</th>\n",
              "    </tr>\n",
              "  </thead>\n",
              "  <tbody>\n",
              "    <tr>\n",
              "      <th>0</th>\n",
              "      <td>16.99</td>\n",
              "      <td>1.01</td>\n",
              "      <td>Female</td>\n",
              "      <td>No</td>\n",
              "      <td>Sun</td>\n",
              "      <td>Dinner</td>\n",
              "      <td>2</td>\n",
              "      <td>couple</td>\n",
              "      <td>0.059447</td>\n",
              "    </tr>\n",
              "    <tr>\n",
              "      <th>1</th>\n",
              "      <td>10.34</td>\n",
              "      <td>1.66</td>\n",
              "      <td>Male</td>\n",
              "      <td>No</td>\n",
              "      <td>Sun</td>\n",
              "      <td>Dinner</td>\n",
              "      <td>3</td>\n",
              "      <td>group</td>\n",
              "      <td>0.160542</td>\n",
              "    </tr>\n",
              "    <tr>\n",
              "      <th>2</th>\n",
              "      <td>21.01</td>\n",
              "      <td>3.50</td>\n",
              "      <td>Male</td>\n",
              "      <td>No</td>\n",
              "      <td>Sun</td>\n",
              "      <td>Dinner</td>\n",
              "      <td>3</td>\n",
              "      <td>group</td>\n",
              "      <td>0.166587</td>\n",
              "    </tr>\n",
              "    <tr>\n",
              "      <th>3</th>\n",
              "      <td>23.68</td>\n",
              "      <td>3.31</td>\n",
              "      <td>Male</td>\n",
              "      <td>No</td>\n",
              "      <td>Sun</td>\n",
              "      <td>Dinner</td>\n",
              "      <td>2</td>\n",
              "      <td>couple</td>\n",
              "      <td>0.139780</td>\n",
              "    </tr>\n",
              "    <tr>\n",
              "      <th>4</th>\n",
              "      <td>24.59</td>\n",
              "      <td>3.61</td>\n",
              "      <td>Female</td>\n",
              "      <td>No</td>\n",
              "      <td>Sun</td>\n",
              "      <td>Dinner</td>\n",
              "      <td>4</td>\n",
              "      <td>group</td>\n",
              "      <td>0.146808</td>\n",
              "    </tr>\n",
              "  </tbody>\n",
              "</table>\n",
              "</div>"
            ],
            "text/plain": [
              "   total_bill   tip     sex smoker  day    time  size group_size  \\\n",
              "0       16.99  1.01  Female     No  Sun  Dinner     2     couple   \n",
              "1       10.34  1.66    Male     No  Sun  Dinner     3      group   \n",
              "2       21.01  3.50    Male     No  Sun  Dinner     3      group   \n",
              "3       23.68  3.31    Male     No  Sun  Dinner     2     couple   \n",
              "4       24.59  3.61  Female     No  Sun  Dinner     4      group   \n",
              "\n",
              "   tip_percentage  \n",
              "0        0.059447  \n",
              "1        0.160542  \n",
              "2        0.166587  \n",
              "3        0.139780  \n",
              "4        0.146808  "
            ]
          },
          "execution_count": 32,
          "metadata": {},
          "output_type": "execute_result"
        }
      ],
      "source": [
        "df['tip_percentage'] = df['tip'] / df['total_bill']\n",
        "df.head()"
      ]
    },
    {
      "cell_type": "code",
      "execution_count": 33,
      "id": "5c7f001e",
      "metadata": {},
      "outputs": [
        {
          "data": {
            "text/html": [
              "<div>\n",
              "<style scoped>\n",
              "    .dataframe tbody tr th:only-of-type {\n",
              "        vertical-align: middle;\n",
              "    }\n",
              "\n",
              "    .dataframe tbody tr th {\n",
              "        vertical-align: top;\n",
              "    }\n",
              "\n",
              "    .dataframe thead th {\n",
              "        text-align: right;\n",
              "    }\n",
              "</style>\n",
              "<table border=\"1\" class=\"dataframe\">\n",
              "  <thead>\n",
              "    <tr style=\"text-align: right;\">\n",
              "      <th></th>\n",
              "      <th>total_bill</th>\n",
              "      <th>tip</th>\n",
              "      <th>sex</th>\n",
              "      <th>smoker</th>\n",
              "      <th>day</th>\n",
              "      <th>time</th>\n",
              "      <th>size</th>\n",
              "      <th>group_size</th>\n",
              "      <th>tip_percentage</th>\n",
              "      <th>bill_per_person</th>\n",
              "    </tr>\n",
              "  </thead>\n",
              "  <tbody>\n",
              "    <tr>\n",
              "      <th>0</th>\n",
              "      <td>16.99</td>\n",
              "      <td>1.01</td>\n",
              "      <td>Female</td>\n",
              "      <td>No</td>\n",
              "      <td>Sun</td>\n",
              "      <td>Dinner</td>\n",
              "      <td>2</td>\n",
              "      <td>couple</td>\n",
              "      <td>0.059447</td>\n",
              "      <td>8.495000</td>\n",
              "    </tr>\n",
              "    <tr>\n",
              "      <th>1</th>\n",
              "      <td>10.34</td>\n",
              "      <td>1.66</td>\n",
              "      <td>Male</td>\n",
              "      <td>No</td>\n",
              "      <td>Sun</td>\n",
              "      <td>Dinner</td>\n",
              "      <td>3</td>\n",
              "      <td>group</td>\n",
              "      <td>0.160542</td>\n",
              "      <td>3.446667</td>\n",
              "    </tr>\n",
              "    <tr>\n",
              "      <th>2</th>\n",
              "      <td>21.01</td>\n",
              "      <td>3.50</td>\n",
              "      <td>Male</td>\n",
              "      <td>No</td>\n",
              "      <td>Sun</td>\n",
              "      <td>Dinner</td>\n",
              "      <td>3</td>\n",
              "      <td>group</td>\n",
              "      <td>0.166587</td>\n",
              "      <td>7.003333</td>\n",
              "    </tr>\n",
              "    <tr>\n",
              "      <th>3</th>\n",
              "      <td>23.68</td>\n",
              "      <td>3.31</td>\n",
              "      <td>Male</td>\n",
              "      <td>No</td>\n",
              "      <td>Sun</td>\n",
              "      <td>Dinner</td>\n",
              "      <td>2</td>\n",
              "      <td>couple</td>\n",
              "      <td>0.139780</td>\n",
              "      <td>11.840000</td>\n",
              "    </tr>\n",
              "    <tr>\n",
              "      <th>4</th>\n",
              "      <td>24.59</td>\n",
              "      <td>3.61</td>\n",
              "      <td>Female</td>\n",
              "      <td>No</td>\n",
              "      <td>Sun</td>\n",
              "      <td>Dinner</td>\n",
              "      <td>4</td>\n",
              "      <td>group</td>\n",
              "      <td>0.146808</td>\n",
              "      <td>6.147500</td>\n",
              "    </tr>\n",
              "  </tbody>\n",
              "</table>\n",
              "</div>"
            ],
            "text/plain": [
              "   total_bill   tip     sex smoker  day    time  size group_size  \\\n",
              "0       16.99  1.01  Female     No  Sun  Dinner     2     couple   \n",
              "1       10.34  1.66    Male     No  Sun  Dinner     3      group   \n",
              "2       21.01  3.50    Male     No  Sun  Dinner     3      group   \n",
              "3       23.68  3.31    Male     No  Sun  Dinner     2     couple   \n",
              "4       24.59  3.61  Female     No  Sun  Dinner     4      group   \n",
              "\n",
              "   tip_percentage  bill_per_person  \n",
              "0        0.059447         8.495000  \n",
              "1        0.160542         3.446667  \n",
              "2        0.166587         7.003333  \n",
              "3        0.139780        11.840000  \n",
              "4        0.146808         6.147500  "
            ]
          },
          "execution_count": 33,
          "metadata": {},
          "output_type": "execute_result"
        }
      ],
      "source": [
        "df['bill_per_person'] = df['total_bill'] / df['size']\n",
        "df.head()"
      ]
    },
    {
      "cell_type": "code",
      "execution_count": 34,
      "id": "76a34c06",
      "metadata": {},
      "outputs": [
        {
          "data": {
            "text/plain": [
              "<AxesSubplot: xlabel='bill_per_person', ylabel='tip_percentage'>"
            ]
          },
          "execution_count": 34,
          "metadata": {},
          "output_type": "execute_result"
        },
        {
          "data": {
            "image/png": "[encoded data removed]",
            "text/plain": [
              "<Figure size 640x480 with 1 Axes>"
            ]
          },
          "metadata": {},
          "output_type": "display_data"
        }
      ],
      "source": [
        "sns.scatterplot(data=df, x='bill_per_person', y='tip_percentage', hue='group_size')"
      ]
    },
    {
      "cell_type": "code",
      "execution_count": 35,
      "id": "adc58775",
      "metadata": {},
      "outputs": [
        {
          "name": "stderr",
          "output_type": "stream",
          "text": [
            "/var/folders/dt/58d383mx6m5glpsgpmmsbj_80000gn/T/ipykernel_54465/1134722465.py:1: FutureWarning: The default value of numeric_only in DataFrame.corr is deprecated. In a future version, it will default to False. Select only valid columns or specify the value of numeric_only to silence this warning.\n",
            "  df.corr()\n"
          ]
        },
        {
          "data": {
            "text/html": [
              "<div>\n",
              "<style scoped>\n",
              "    .dataframe tbody tr th:only-of-type {\n",
              "        vertical-align: middle;\n",
              "    }\n",
              "\n",
              "    .dataframe tbody tr th {\n",
              "        vertical-align: top;\n",
              "    }\n",
              "\n",
              "    .dataframe thead th {\n",
              "        text-align: right;\n",
              "    }\n",
              "</style>\n",
              "<table border=\"1\" class=\"dataframe\">\n",
              "  <thead>\n",
              "    <tr style=\"text-align: right;\">\n",
              "      <th></th>\n",
              "      <th>total_bill</th>\n",
              "      <th>tip</th>\n",
              "      <th>size</th>\n",
              "      <th>tip_percentage</th>\n",
              "      <th>bill_per_person</th>\n",
              "    </tr>\n",
              "  </thead>\n",
              "  <tbody>\n",
              "    <tr>\n",
              "      <th>total_bill</th>\n",
              "      <td>1.000000</td>\n",
              "      <td>0.675734</td>\n",
              "      <td>0.598315</td>\n",
              "      <td>-0.338624</td>\n",
              "      <td>0.647497</td>\n",
              "    </tr>\n",
              "    <tr>\n",
              "      <th>tip</th>\n",
              "      <td>0.675734</td>\n",
              "      <td>1.000000</td>\n",
              "      <td>0.489299</td>\n",
              "      <td>0.342370</td>\n",
              "      <td>0.347393</td>\n",
              "    </tr>\n",
              "    <tr>\n",
              "      <th>size</th>\n",
              "      <td>0.598315</td>\n",
              "      <td>0.489299</td>\n",
              "      <td>1.000000</td>\n",
              "      <td>-0.142860</td>\n",
              "      <td>-0.175412</td>\n",
              "    </tr>\n",
              "    <tr>\n",
              "      <th>tip_percentage</th>\n",
              "      <td>-0.338624</td>\n",
              "      <td>0.342370</td>\n",
              "      <td>-0.142860</td>\n",
              "      <td>1.000000</td>\n",
              "      <td>-0.314156</td>\n",
              "    </tr>\n",
              "    <tr>\n",
              "      <th>bill_per_person</th>\n",
              "      <td>0.647497</td>\n",
              "      <td>0.347393</td>\n",
              "      <td>-0.175412</td>\n",
              "      <td>-0.314156</td>\n",
              "      <td>1.000000</td>\n",
              "    </tr>\n",
              "  </tbody>\n",
              "</table>\n",
              "</div>"
            ],
            "text/plain": [
              "                 total_bill       tip      size  tip_percentage  \\\n",
              "total_bill         1.000000  0.675734  0.598315       -0.338624   \n",
              "tip                0.675734  1.000000  0.489299        0.342370   \n",
              "size               0.598315  0.489299  1.000000       -0.142860   \n",
              "tip_percentage    -0.338624  0.342370 -0.142860        1.000000   \n",
              "bill_per_person    0.647497  0.347393 -0.175412       -0.314156   \n",
              "\n",
              "                 bill_per_person  \n",
              "total_bill              0.647497  \n",
              "tip                     0.347393  \n",
              "size                   -0.175412  \n",
              "tip_percentage         -0.314156  \n",
              "bill_per_person         1.000000  "
            ]
          },
          "execution_count": 35,
          "metadata": {},
          "output_type": "execute_result"
        }
      ],
      "source": [
        "df.corr()"
      ]
    },
    {
      "cell_type": "markdown",
      "id": "ada843f1",
      "metadata": {},
      "source": [
        "As we can see from the chart above and the correlations coefficients, our new features do not expose any big relationships between our numerical features. \n",
        "\n",
        "However, the negative correlation coefficient (even though not very strong) between `tip_percentage` and `total_bill` or `bill_per_person` confirms our intuition about fixed tips which bring down the tips amount depsite the bill amount increasing in some cases. We can also see it from the decending trend in the chart. This could also reveal the fact that people tend to lower their tip percentage (or use a fixed tip amount generally lower than if calculated with a percentage) when the bill amount increases.\n",
        "\n",
        "The chart above also highlights the fact that there is no clear relationship between `group_size` and `tip_percentage` or `bill_per_person`. Put more simply, people are not more generous when they are in groups or in couple for example. \n",
        "\n",
        "Also, we can't draw any conclusions for people eating alone as we only have 4 observations (see below)."
      ]
    },
    {
      "cell_type": "code",
      "execution_count": 36,
      "id": "9356a318",
      "metadata": {},
      "outputs": [
        {
          "data": {
            "text/plain": [
              "4"
            ]
          },
          "execution_count": 36,
          "metadata": {},
          "output_type": "execute_result"
        }
      ],
      "source": [
        "df.loc[df['group_size'] == 'alone'].shape[0]"
      ]
    },
    {
      "cell_type": "markdown",
      "id": "166be4d8",
      "metadata": {},
      "source": [
        "For the next part, we will use `tip_percentage` and `bill_per_person` instead of `tip` and `total_bill` as they preserve most of the information but they are not naturally linked together because of the group size. We will also keep `group_size` instead of `size` as it makes more sense in my opinion to treat is as categorical. We will just not draw conclusions from `alone` category (which we would certainely remove if we were about to create a model as we do not have enough data)."
      ]
    },
    {
      "cell_type": "code",
      "execution_count": 37,
      "id": "9498c71b",
      "metadata": {},
      "outputs": [],
      "source": [
        "df2 = df.drop(columns=['size', 'total_bill', 'tip'])\n",
        "categoricals2 = df2[['sex', 'smoker', 'day', 'time', 'group_size']]\n",
        "numericals2 = df2[['tip_percentage', 'bill_per_person']]"
      ]
    },
    {
      "cell_type": "code",
      "execution_count": 38,
      "id": "b7f261ea",
      "metadata": {},
      "outputs": [
        {
          "data": {
            "image/png": "[encoded data removed]",
            "text/plain": [
              "<Figure size 2000x800 with 10 Axes>"
            ]
          },
          "metadata": {},
          "output_type": "display_data"
        }
      ],
      "source": [
        "nb_num = len(numericals2.columns)\n",
        "nb_cat = len(categoricals2.columns)\n",
        "fig, axes = plt.subplots(nb_num, nb_cat, sharex=False, sharey=False, figsize=(20, 8))\n",
        "for i in range(nb_num):\n",
        "    for j in range(nb_cat):\n",
        "        sns.boxplot(x=numericals2.columns[i], y=categoricals2.columns[j], data=df2, ax=axes[i,j])\n"
      ]
    },
    {
      "cell_type": "markdown",
      "id": "525bf909",
      "metadata": {},
      "source": [
        "We can see above how `tip_percentage` and `bill_per_person` are distributed for different categories of each categorical feature. To see each chart individually, we can use the interactive chart below.\n",
        "\n",
        "Regarding `tip_percentage`, we can see that there are slightly higher 75th percentile values and/or more positive outliers for smokers, sunday, dinner and couple. This could mean that the big tips in terms of percentage are more likely to be given by smokers, on sundays, for dinner and by couples. However, the differences (or numbers of outliers) are not very big and we would need more data to confirm this. Additionally, the medians are very similar for all categories (expect for alone but remember we only have 4 observations so no conclusions can be drawn).\n",
        "\n",
        "We can see similar results for `bill_per_person` with the addition of more outliers for the category male. However the same caution applies because of the small size of the dataset, the small differences and the simple fact that some of these \"links\" do not make sense.\n",
        "\n",
        "To sum it up, all of these potential relationships are to be taken with a big grain of salt. We could potentially test if they are statistically significant using chi-square (for categorical-categorical) and ANOVA (for categorical-numerical) tests.\n",
        "\n",
        "We can still note that some of these relationships (e.g. people spending more on dinner) could make sense, and that more data could confirm this. Also the data should be collected in a more balanced way (e.g. more observations for lunch on weekends) to avoid the extreme observations we have seen earlier."
      ]
    },
    {
      "cell_type": "code",
      "execution_count": 39,
      "id": "02aaa206",
      "metadata": {},
      "outputs": [
        {
          "data": {
            "application/vnd.jupyter.widget-view+json": {
              "model_id": "da325d084aa740de8583c52b26b84a78",
              "version_major": 2,
              "version_minor": 0
            },
            "text/plain": [
              "HBox(children=(Dropdown(description='X', options=('tip_percentage', 'bill_per_person'), value='tip_percentage'…"
            ]
          },
          "metadata": {},
          "output_type": "display_data"
        },
        {
          "data": {
            "application/vnd.jupyter.widget-view+json": {
              "model_id": "a09e5399b3a1484c9ce01bcf72b33fba",
              "version_major": 2,
              "version_minor": 0
            },
            "text/plain": [
              "Output()"
            ]
          },
          "metadata": {},
          "output_type": "display_data"
        }
      ],
      "source": [
        "ddX = widgets.Dropdown(options=numericals2.columns, value=numericals2.columns[0], description=\"X\")\n",
        "ddY = widgets.Dropdown(options=categoricals2.columns, value=categoricals2.columns[0], description=\"Y\")\n",
        "\n",
        "uiControls = widgets.HBox([ddX, ddY])\n",
        "\n",
        "def doBoxPlot(x, y):\n",
        "    p=sns.boxplot(data=df2, x=x, y=y)\n",
        "    \n",
        "out = widgets.interactive_output(doBoxPlot, {\"x\":ddX, \"y\":ddY})\n",
        "display(uiControls, out)"
      ]
    },
    {
      "cell_type": "markdown",
      "id": "103a6d24",
      "metadata": {},
      "source": [
        "The interactive visualisation below allows us to see that it is difficult to draw any clear conclusion from this dataset as we do not see any clear groups in the data."
      ]
    },
    {
      "cell_type": "code",
      "execution_count": 40,
      "id": "d148991a",
      "metadata": {},
      "outputs": [
        {
          "data": {
            "application/vnd.jupyter.widget-view+json": {
              "model_id": "6c204ff00351478688282ac904d9aeb4",
              "version_major": 2,
              "version_minor": 0
            },
            "text/plain": [
              "HBox(children=(Dropdown(description='X', options=('tip_percentage', 'bill_per_person'), value='tip_percentage'…"
            ]
          },
          "metadata": {},
          "output_type": "display_data"
        },
        {
          "data": {
            "application/vnd.jupyter.widget-view+json": {
              "model_id": "49dae369191d474b95c346e91e99b0f7",
              "version_major": 2,
              "version_minor": 0
            },
            "text/plain": [
              "Output()"
            ]
          },
          "metadata": {},
          "output_type": "display_data"
        }
      ],
      "source": [
        "ddHue = widgets.Dropdown(options=categoricals2.columns, value=categoricals2.columns[1], description=\"Hue\")\n",
        "\n",
        "uiControls = widgets.HBox([ddX, ddY, ddHue])\n",
        "\n",
        "def doSwarmPlot(x, y, hue):\n",
        "    p=sns.swarmplot(data=df2, x=x, y=y, hue=hue)\n",
        "    \n",
        "out = widgets.interactive_output(doSwarmPlot, {\"x\":ddX, \"y\":ddY, \"hue\":ddHue})\n",
        "display(uiControls, out)"
      ]
    }
  ],
  "metadata": {
    "kernelspec": {
      "display_name": "Python 3 (ipykernel)",
      "language": "python",
      "name": "python3"
    },
    "language_info": {
      "codemirror_mode": {
        "name": "ipython",
        "version": 3
      },
      "file_extension": ".py",
      "mimetype": "text/x-python",
      "name": "python",
      "nbconvert_exporter": "python",
      "pygments_lexer": "ipython3",
      "version": "3.11.5"
    }
  },
  "nbformat": 4,
  "nbformat_minor": 5
}
